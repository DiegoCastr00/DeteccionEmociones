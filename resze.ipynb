{
 "cells": [
  {
   "cell_type": "code",
   "execution_count": null,
   "metadata": {},
   "outputs": [],
   "source": [
    "import cv2\n",
    "import numpy as np\n",
    "import matplotlib.pyplot as plt\n",
    "import os"
   ]
  },
  {
   "cell_type": "code",
   "execution_count": null,
   "metadata": {},
   "outputs": [],
   "source": [
    "def resize_image(image, size=(167, 267)):\n",
    "    # Obtener las dimensiones de la imagen\n",
    "    height, width = image.shape[:2]\n",
    "    # Si la imagen es más grande que el tamaño objetivo, usar cv2.INTER_AREA\n",
    "    if height > size[0] or width > size[1]:\n",
    "        interpolation = cv2.INTER_AREA\n",
    "    # Si la imagen es más pequeña que el tamaño objetivo, usar cv2.INTER_CUBIC\n",
    "    else:\n",
    "        interpolation = cv2.INTER_CUBIC\n",
    "\n",
    "    # Redimensionar la imagen\n",
    "    resized_image = cv2.resize(image, size, interpolation=interpolation)\n",
    "    return resized_image\n",
    "\n",
    "ruta_carpeta = \"originales/dog\"\n",
    "carpeta_destino = 'resize/dog'\n",
    "imagenes = []\n",
    "\n",
    "for archivo in os.listdir(ruta_carpeta):\n",
    "    ruta_archivo = os.path.join(ruta_carpeta, archivo)\n",
    "    if os.path.isfile(ruta_archivo) and archivo.lower().endswith(('.jpg', '.jpeg', '.png')):\n",
    "        imagenes.append(ruta_archivo)\n",
    "\n",
    "print(len(imagenes))\n",
    "\n",
    "for i,ruta_imagen in enumerate(imagenes):\n",
    "    imagen = cv2.imread(ruta_imagen)\n",
    "    imagen_gray = cv2.cvtColor(imagen, cv2.COLOR_BGR2GRAY)\n",
    "    imagen_resized = resize_image(imagen_gray)\n",
    "    nombre_archivo_destino = 'dog' + str(i) +\"_2\" +'.jpg'\n",
    "    ruta_archivo_destino = os.path.join(carpeta_destino, nombre_archivo_destino)\n",
    "    plt.imsave(ruta_archivo_destino, imagen_resized, cmap='gray')\n",
    "# cv2.imwrite('resize/imagen_resized.png', cv2.cvtColor(imagen_resized, cv2.COLOR_RGB2BGR))"
   ]
  }
 ],
 "metadata": {
  "language_info": {
   "name": "python"
  }
 },
 "nbformat": 4,
 "nbformat_minor": 2
}
