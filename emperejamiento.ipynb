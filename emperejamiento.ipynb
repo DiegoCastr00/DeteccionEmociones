{
 "cells": [
  {
   "cell_type": "code",
   "execution_count": null,
   "metadata": {},
   "outputs": [],
   "source": [
    "import os\n",
    "import shutil\n",
    "from random import sample\n",
    "\n",
    "# Rutas de las carpetas de origen y destino\n",
    "origen_path = 'dataset'\n",
    "destino_path = 'fer'\n",
    "\n",
    "# Crear la carpeta de destino si no existe\n",
    "if not os.path.exists(destino_path):\n",
    "    os.makedirs(destino_path)\n",
    "\n",
    "# Listar todas las subcarpetas en la carpeta de origen\n",
    "subcarpetas = [d for d in os.listdir(origen_path) if os.path.isdir(os.path.join(origen_path, d))]\n",
    "\n",
    "for subcarpeta in subcarpetas:\n",
    "    subcarpeta_path = os.path.join(origen_path, subcarpeta)\n",
    "    destino_subcarpeta_path = os.path.join(destino_path, subcarpeta)\n",
    "    \n",
    "    # Crear la subcarpeta en la carpeta de destino si no existe\n",
    "    if not os.path.exists(destino_subcarpeta_path):\n",
    "        os.makedirs(destino_subcarpeta_path)\n",
    "    \n",
    "    # Listar todos los archivos en la subcarpeta\n",
    "    archivos = [f for f in os.listdir(subcarpeta_path) if os.path.isfile(os.path.join(subcarpeta_path, f))]\n",
    "    \n",
    "    # Seleccionar 720 imágenes aleatoriamente si hay más de 720, de lo contrario seleccionar todas\n",
    "    if len(archivos) > 720:\n",
    "        archivos_seleccionados = sample(archivos, 720)\n",
    "    else:\n",
    "        archivos_seleccionados = archivos\n",
    "    \n",
    "    # Copiar los archivos seleccionados a la carpeta de destino\n",
    "    for archivo in archivos_seleccionados:\n",
    "        shutil.copy(os.path.join(subcarpeta_path, archivo), os.path.join(destino_subcarpeta_path, archivo))"
   ]
  }
 ],
 "metadata": {
  "language_info": {
   "name": "python"
  }
 },
 "nbformat": 4,
 "nbformat_minor": 2
}
